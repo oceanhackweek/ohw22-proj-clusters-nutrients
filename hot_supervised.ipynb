{
 "cells": [
  {
   "cell_type": "code",
   "execution_count": 3,
   "id": "c5ac164f-8937-4430-8bbf-004a099e5a1a",
   "metadata": {
    "tags": []
   },
   "outputs": [
    {
     "name": "stdout",
     "output_type": "stream",
     "text": [
      "Defaulting to user installation because normal site-packages is not writeable\n",
      "Requirement already satisfied: pycmap in /home/jovyan/.local/lib/python3.9/site-packages (0.2.16)\n",
      "Requirement already satisfied: cmocean in /opt/conda/lib/python3.9/site-packages (from pycmap) (2.0)\n",
      "Requirement already satisfied: colorama in /opt/conda/lib/python3.9/site-packages (from pycmap) (0.4.5)\n",
      "Requirement already satisfied: scipy in /opt/conda/lib/python3.9/site-packages (from pycmap) (1.9.0)\n",
      "Requirement already satisfied: pandas in /opt/conda/lib/python3.9/site-packages (from pycmap) (1.4.3)\n",
      "Requirement already satisfied: tqdm in /opt/conda/lib/python3.9/site-packages (from pycmap) (4.64.0)\n",
      "Requirement already satisfied: folium in /opt/conda/lib/python3.9/site-packages (from pycmap) (0.12.1.post1)\n",
      "Requirement already satisfied: bokeh in /opt/conda/lib/python3.9/site-packages (from pycmap) (2.4.3)\n",
      "Requirement already satisfied: plotly in /home/jovyan/.local/lib/python3.9/site-packages (from pycmap) (5.9.0)\n",
      "Requirement already satisfied: matplotlib in /opt/conda/lib/python3.9/site-packages (from pycmap) (3.5.2)\n",
      "Requirement already satisfied: numpy in /opt/conda/lib/python3.9/site-packages (from pycmap) (1.23.1)\n",
      "Requirement already satisfied: typing-extensions>=3.10.0 in /opt/conda/lib/python3.9/site-packages (from bokeh->pycmap) (4.3.0)\n",
      "Requirement already satisfied: Jinja2>=2.9 in /opt/conda/lib/python3.9/site-packages (from bokeh->pycmap) (3.1.2)\n",
      "Requirement already satisfied: tornado>=5.1 in /opt/conda/lib/python3.9/site-packages (from bokeh->pycmap) (6.1)\n",
      "Requirement already satisfied: pillow>=7.1.0 in /opt/conda/lib/python3.9/site-packages (from bokeh->pycmap) (9.2.0)\n",
      "Requirement already satisfied: PyYAML>=3.10 in /opt/conda/lib/python3.9/site-packages (from bokeh->pycmap) (6.0)\n",
      "Requirement already satisfied: packaging>=16.8 in /opt/conda/lib/python3.9/site-packages (from bokeh->pycmap) (20.9)\n",
      "Requirement already satisfied: MarkupSafe>=2.0 in /opt/conda/lib/python3.9/site-packages (from Jinja2>=2.9->bokeh->pycmap) (2.1.1)\n",
      "Requirement already satisfied: pyparsing>=2.0.2 in /opt/conda/lib/python3.9/site-packages (from packaging>=16.8->bokeh->pycmap) (3.0.9)\n",
      "Requirement already satisfied: branca>=0.3.0 in /opt/conda/lib/python3.9/site-packages (from folium->pycmap) (0.5.0)\n",
      "Requirement already satisfied: requests in /opt/conda/lib/python3.9/site-packages (from folium->pycmap) (2.28.1)\n",
      "Requirement already satisfied: kiwisolver>=1.0.1 in /opt/conda/lib/python3.9/site-packages (from matplotlib->pycmap) (1.4.4)\n",
      "Requirement already satisfied: fonttools>=4.22.0 in /opt/conda/lib/python3.9/site-packages (from matplotlib->pycmap) (4.34.4)\n",
      "Requirement already satisfied: cycler>=0.10 in /opt/conda/lib/python3.9/site-packages (from matplotlib->pycmap) (0.11.0)\n",
      "Requirement already satisfied: python-dateutil>=2.7 in /opt/conda/lib/python3.9/site-packages (from matplotlib->pycmap) (2.8.2)\n",
      "Requirement already satisfied: six>=1.5 in /opt/conda/lib/python3.9/site-packages (from python-dateutil>=2.7->matplotlib->pycmap) (1.16.0)\n",
      "Requirement already satisfied: pytz>=2020.1 in /opt/conda/lib/python3.9/site-packages (from pandas->pycmap) (2022.2.1)\n",
      "Requirement already satisfied: tenacity>=6.2.0 in /home/jovyan/.local/lib/python3.9/site-packages (from plotly->pycmap) (8.0.1)\n",
      "Requirement already satisfied: urllib3<1.27,>=1.21.1 in /opt/conda/lib/python3.9/site-packages (from requests->folium->pycmap) (1.26.11)\n",
      "Requirement already satisfied: idna<4,>=2.5 in /opt/conda/lib/python3.9/site-packages (from requests->folium->pycmap) (3.3)\n",
      "Requirement already satisfied: charset-normalizer<3,>=2 in /opt/conda/lib/python3.9/site-packages (from requests->folium->pycmap) (2.1.0)\n",
      "Requirement already satisfied: certifi>=2017.4.17 in /opt/conda/lib/python3.9/site-packages (from requests->folium->pycmap) (2022.6.15)\n"
     ]
    }
   ],
   "source": [
    "import pandas as pd\n",
    "import numpy as np\n",
    "!pip install pycmap\n",
    "import pycmap\n",
    "import plotly.express as px\n",
    "\n",
    "\n",
    "import matplotlib.pyplot as plt\n",
    "\n",
    "import seaborn as sns"
   ]
  },
  {
   "cell_type": "code",
   "execution_count": 4,
   "id": "f8b29268-227b-4265-b5e2-8ff4597f6f5f",
   "metadata": {
    "tags": []
   },
   "outputs": [
    {
     "name": "stdout",
     "output_type": "stream",
     "text": [
      "Defaulting to user installation because normal site-packages is not writeable\n",
      "Requirement already satisfied: cartopy in /opt/conda/lib/python3.9/site-packages (0.20.3)\n",
      "Requirement already satisfied: shapely>=1.6.4 in /opt/conda/lib/python3.9/site-packages (from cartopy) (1.8.2)\n",
      "Requirement already satisfied: pyshp>=2.1 in /opt/conda/lib/python3.9/site-packages (from cartopy) (2.3.1)\n",
      "Requirement already satisfied: numpy>=1.18 in /opt/conda/lib/python3.9/site-packages (from cartopy) (1.23.1)\n",
      "Requirement already satisfied: matplotlib>=3.1 in /opt/conda/lib/python3.9/site-packages (from cartopy) (3.5.2)\n",
      "Requirement already satisfied: pyproj>=3.0.0 in /opt/conda/lib/python3.9/site-packages (from cartopy) (3.3.1)\n",
      "Requirement already satisfied: pyparsing>=2.2.1 in /opt/conda/lib/python3.9/site-packages (from matplotlib>=3.1->cartopy) (3.0.9)\n",
      "Requirement already satisfied: cycler>=0.10 in /opt/conda/lib/python3.9/site-packages (from matplotlib>=3.1->cartopy) (0.11.0)\n",
      "Requirement already satisfied: kiwisolver>=1.0.1 in /opt/conda/lib/python3.9/site-packages (from matplotlib>=3.1->cartopy) (1.4.4)\n",
      "Requirement already satisfied: fonttools>=4.22.0 in /opt/conda/lib/python3.9/site-packages (from matplotlib>=3.1->cartopy) (4.34.4)\n",
      "Requirement already satisfied: packaging>=20.0 in /opt/conda/lib/python3.9/site-packages (from matplotlib>=3.1->cartopy) (20.9)\n",
      "Requirement already satisfied: python-dateutil>=2.7 in /opt/conda/lib/python3.9/site-packages (from matplotlib>=3.1->cartopy) (2.8.2)\n",
      "Requirement already satisfied: pillow>=6.2.0 in /opt/conda/lib/python3.9/site-packages (from matplotlib>=3.1->cartopy) (9.2.0)\n",
      "Requirement already satisfied: certifi in /opt/conda/lib/python3.9/site-packages (from pyproj>=3.0.0->cartopy) (2022.6.15)\n",
      "Requirement already satisfied: six>=1.5 in /opt/conda/lib/python3.9/site-packages (from python-dateutil>=2.7->matplotlib>=3.1->cartopy) (1.16.0)\n"
     ]
    }
   ],
   "source": [
    "!pip install cartopy\n",
    "import cartopy.crs as ccrs         # to plot maps with different projections\n",
    "import cartopy.feature as cfeature # to plot coastlines, land, borders, etc."
   ]
  },
  {
   "cell_type": "code",
   "execution_count": 5,
   "id": "51d4c67b-fdc6-43d6-b7df-a2b26c768269",
   "metadata": {},
   "outputs": [],
   "source": [
    "key = \"16065440-182a-11ed-a38a-6594a3860394\"\n",
    "api = pycmap.API(token=key)       # call api using your unique API key"
   ]
  },
  {
   "cell_type": "code",
   "execution_count": 6,
   "id": "33647d87-adae-443b-869c-a1118f419e1f",
   "metadata": {},
   "outputs": [],
   "source": [
    "HOT_bottle = api.get_dataset('tblHOT_Bottle')\n",
    "# HOT_bottle.keys()\n",
    "\n",
    "count_null = []\n",
    "for i in range(0, 67):\n",
    "    col_name = HOT_bottle.keys()[i]\n",
    "    count_null.append({col_name: HOT_bottle[col_name].isna().sum()})\n",
    "# count_null"
   ]
  },
  {
   "cell_type": "code",
   "execution_count": 7,
   "id": "afb7fa5b-08ab-4ade-87f4-0c632b4281aa",
   "metadata": {},
   "outputs": [
    {
     "data": {
      "text/html": [
       "<div>\n",
       "<style scoped>\n",
       "    .dataframe tbody tr th:only-of-type {\n",
       "        vertical-align: middle;\n",
       "    }\n",
       "\n",
       "    .dataframe tbody tr th {\n",
       "        vertical-align: top;\n",
       "    }\n",
       "\n",
       "    .dataframe thead th {\n",
       "        text-align: right;\n",
       "    }\n",
       "</style>\n",
       "<table border=\"1\" class=\"dataframe\">\n",
       "  <thead>\n",
       "    <tr style=\"text-align: right;\">\n",
       "      <th></th>\n",
       "      <th>botid_HOT</th>\n",
       "      <th>time</th>\n",
       "      <th>date_time</th>\n",
       "      <th>pressure_ctd_bottle_hot</th>\n",
       "      <th>potential_temperature_ctd_bottle_hot</th>\n",
       "      <th>potential_density_ctd_bottle_hot</th>\n",
       "      <th>temperature_ctd_bottle_hot</th>\n",
       "      <th>salinity_ctd_bottle_hot</th>\n",
       "      <th>oxygen_ctd_bottle_hot</th>\n",
       "      <th>salinity_bottle_hot</th>\n",
       "      <th>...</th>\n",
       "      <th>pe4_bottle_hot</th>\n",
       "      <th>pe5_bottle_hot</th>\n",
       "      <th>pe10_bottle_hot</th>\n",
       "      <th>p15n_bottle_hot</th>\n",
       "      <th>PP_l12_bottle_hot</th>\n",
       "      <th>PP_d12_bottle_hot</th>\n",
       "      <th>NO2_bottle_hot</th>\n",
       "      <th>lat</th>\n",
       "      <th>lon</th>\n",
       "      <th>depth</th>\n",
       "    </tr>\n",
       "  </thead>\n",
       "  <tbody>\n",
       "    <tr>\n",
       "      <th>0</th>\n",
       "      <td>10200312</td>\n",
       "      <td>1988-10-31T00:00:00</td>\n",
       "      <td>15704.0</td>\n",
       "      <td>4.7</td>\n",
       "      <td>26.2868</td>\n",
       "      <td>23.122</td>\n",
       "      <td>26.2879</td>\n",
       "      <td>35.2344</td>\n",
       "      <td>224.6</td>\n",
       "      <td>35.2450</td>\n",
       "      <td>...</td>\n",
       "      <td>NaN</td>\n",
       "      <td>NaN</td>\n",
       "      <td>NaN</td>\n",
       "      <td>NaN</td>\n",
       "      <td>NaN</td>\n",
       "      <td>NaN</td>\n",
       "      <td>NaN</td>\n",
       "      <td>22.75</td>\n",
       "      <td>-158.0</td>\n",
       "      <td>4.7</td>\n",
       "    </tr>\n",
       "    <tr>\n",
       "      <th>1</th>\n",
       "      <td>10200311</td>\n",
       "      <td>1988-10-31T00:00:00</td>\n",
       "      <td>15529.0</td>\n",
       "      <td>39.4</td>\n",
       "      <td>26.1785</td>\n",
       "      <td>23.149</td>\n",
       "      <td>26.1874</td>\n",
       "      <td>35.2253</td>\n",
       "      <td>219.5</td>\n",
       "      <td>35.2368</td>\n",
       "      <td>...</td>\n",
       "      <td>NaN</td>\n",
       "      <td>NaN</td>\n",
       "      <td>NaN</td>\n",
       "      <td>NaN</td>\n",
       "      <td>NaN</td>\n",
       "      <td>NaN</td>\n",
       "      <td>NaN</td>\n",
       "      <td>22.75</td>\n",
       "      <td>-158.0</td>\n",
       "      <td>39.4</td>\n",
       "    </tr>\n",
       "    <tr>\n",
       "      <th>2</th>\n",
       "      <td>10200310</td>\n",
       "      <td>1988-10-31T00:00:00</td>\n",
       "      <td>15401.0</td>\n",
       "      <td>99.4</td>\n",
       "      <td>21.7782</td>\n",
       "      <td>24.468</td>\n",
       "      <td>21.7978</td>\n",
       "      <td>35.2462</td>\n",
       "      <td>218.0</td>\n",
       "      <td>35.2578</td>\n",
       "      <td>...</td>\n",
       "      <td>NaN</td>\n",
       "      <td>NaN</td>\n",
       "      <td>NaN</td>\n",
       "      <td>NaN</td>\n",
       "      <td>NaN</td>\n",
       "      <td>NaN</td>\n",
       "      <td>NaN</td>\n",
       "      <td>22.75</td>\n",
       "      <td>-158.0</td>\n",
       "      <td>99.4</td>\n",
       "    </tr>\n",
       "    <tr>\n",
       "      <th>3</th>\n",
       "      <td>10200309</td>\n",
       "      <td>1988-10-31T00:00:00</td>\n",
       "      <td>15220.0</td>\n",
       "      <td>150.3</td>\n",
       "      <td>19.3937</td>\n",
       "      <td>24.989</td>\n",
       "      <td>19.4209</td>\n",
       "      <td>35.0890</td>\n",
       "      <td>201.9</td>\n",
       "      <td>35.0989</td>\n",
       "      <td>...</td>\n",
       "      <td>NaN</td>\n",
       "      <td>NaN</td>\n",
       "      <td>NaN</td>\n",
       "      <td>NaN</td>\n",
       "      <td>NaN</td>\n",
       "      <td>NaN</td>\n",
       "      <td>NaN</td>\n",
       "      <td>22.75</td>\n",
       "      <td>-158.0</td>\n",
       "      <td>150.3</td>\n",
       "    </tr>\n",
       "    <tr>\n",
       "      <th>4</th>\n",
       "      <td>10200308</td>\n",
       "      <td>1988-10-31T00:00:00</td>\n",
       "      <td>15059.0</td>\n",
       "      <td>191.8</td>\n",
       "      <td>17.6737</td>\n",
       "      <td>25.292</td>\n",
       "      <td>17.7063</td>\n",
       "      <td>34.9198</td>\n",
       "      <td>214.4</td>\n",
       "      <td>34.9293</td>\n",
       "      <td>...</td>\n",
       "      <td>NaN</td>\n",
       "      <td>NaN</td>\n",
       "      <td>NaN</td>\n",
       "      <td>NaN</td>\n",
       "      <td>NaN</td>\n",
       "      <td>NaN</td>\n",
       "      <td>NaN</td>\n",
       "      <td>22.75</td>\n",
       "      <td>-158.0</td>\n",
       "      <td>191.8</td>\n",
       "    </tr>\n",
       "  </tbody>\n",
       "</table>\n",
       "<p>5 rows × 67 columns</p>\n",
       "</div>"
      ],
      "text/plain": [
       "   botid_HOT                 time  date_time  pressure_ctd_bottle_hot  \\\n",
       "0   10200312  1988-10-31T00:00:00    15704.0                      4.7   \n",
       "1   10200311  1988-10-31T00:00:00    15529.0                     39.4   \n",
       "2   10200310  1988-10-31T00:00:00    15401.0                     99.4   \n",
       "3   10200309  1988-10-31T00:00:00    15220.0                    150.3   \n",
       "4   10200308  1988-10-31T00:00:00    15059.0                    191.8   \n",
       "\n",
       "   potential_temperature_ctd_bottle_hot  potential_density_ctd_bottle_hot  \\\n",
       "0                               26.2868                            23.122   \n",
       "1                               26.1785                            23.149   \n",
       "2                               21.7782                            24.468   \n",
       "3                               19.3937                            24.989   \n",
       "4                               17.6737                            25.292   \n",
       "\n",
       "   temperature_ctd_bottle_hot  salinity_ctd_bottle_hot  oxygen_ctd_bottle_hot  \\\n",
       "0                     26.2879                  35.2344                  224.6   \n",
       "1                     26.1874                  35.2253                  219.5   \n",
       "2                     21.7978                  35.2462                  218.0   \n",
       "3                     19.4209                  35.0890                  201.9   \n",
       "4                     17.7063                  34.9198                  214.4   \n",
       "\n",
       "   salinity_bottle_hot  ...  pe4_bottle_hot  pe5_bottle_hot  pe10_bottle_hot  \\\n",
       "0              35.2450  ...             NaN             NaN              NaN   \n",
       "1              35.2368  ...             NaN             NaN              NaN   \n",
       "2              35.2578  ...             NaN             NaN              NaN   \n",
       "3              35.0989  ...             NaN             NaN              NaN   \n",
       "4              34.9293  ...             NaN             NaN              NaN   \n",
       "\n",
       "   p15n_bottle_hot  PP_l12_bottle_hot  PP_d12_bottle_hot  NO2_bottle_hot  \\\n",
       "0              NaN                NaN                NaN             NaN   \n",
       "1              NaN                NaN                NaN             NaN   \n",
       "2              NaN                NaN                NaN             NaN   \n",
       "3              NaN                NaN                NaN             NaN   \n",
       "4              NaN                NaN                NaN             NaN   \n",
       "\n",
       "     lat    lon  depth  \n",
       "0  22.75 -158.0    4.7  \n",
       "1  22.75 -158.0   39.4  \n",
       "2  22.75 -158.0   99.4  \n",
       "3  22.75 -158.0  150.3  \n",
       "4  22.75 -158.0  191.8  \n",
       "\n",
       "[5 rows x 67 columns]"
      ]
     },
     "execution_count": 7,
     "metadata": {},
     "output_type": "execute_result"
    }
   ],
   "source": [
    "HOT_bottle.head()"
   ]
  },
  {
   "cell_type": "code",
   "execution_count": 8,
   "id": "7e5f654c-b913-4ca5-8169-940a7a63e0b9",
   "metadata": {},
   "outputs": [
    {
     "name": "stdout",
     "output_type": "stream",
     "text": [
      "Index(['oxygen_ctd_bottle_hot', 'potential_temperature_ctd_bottle_hot',\n",
      "       'salinity_ctd_bottle_hot', 'PO4_bottle_hot', 'NO2_NO3_bottle_hot',\n",
      "       'SiO4_bottle_hot', 'chl_bottle_hot', 'depth'],\n",
      "      dtype='object')\n",
      "(2383, 8)\n"
     ]
    }
   ],
   "source": [
    "hot=HOT_bottle[['oxygen_ctd_bottle_hot', 'potential_temperature_ctd_bottle_hot','salinity_ctd_bottle_hot','PO4_bottle_hot',\n",
    "       'NO2_NO3_bottle_hot', 'SiO4_bottle_hot','chl_bottle_hot','depth' ]]\n",
    "hot=hot[hot.depth<300].dropna() # use the depth only in the top 300 meters. \n",
    "\n",
    "hot = hot.reset_index(drop=True)\n",
    "print(hot.columns)\n",
    "print(hot.shape)"
   ]
  },
  {
   "cell_type": "code",
   "execution_count": 9,
   "id": "ff09af86-9d20-4823-9e94-656e52619412",
   "metadata": {},
   "outputs": [
    {
     "data": {
      "text/html": [
       "<div>\n",
       "<style scoped>\n",
       "    .dataframe tbody tr th:only-of-type {\n",
       "        vertical-align: middle;\n",
       "    }\n",
       "\n",
       "    .dataframe tbody tr th {\n",
       "        vertical-align: top;\n",
       "    }\n",
       "\n",
       "    .dataframe thead th {\n",
       "        text-align: right;\n",
       "    }\n",
       "</style>\n",
       "<table border=\"1\" class=\"dataframe\">\n",
       "  <thead>\n",
       "    <tr style=\"text-align: right;\">\n",
       "      <th></th>\n",
       "      <th>oxygen_ctd_bottle_hot</th>\n",
       "      <th>potential_temperature_ctd_bottle_hot</th>\n",
       "      <th>salinity_ctd_bottle_hot</th>\n",
       "      <th>PO4_bottle_hot</th>\n",
       "      <th>NO2_NO3_bottle_hot</th>\n",
       "      <th>SiO4_bottle_hot</th>\n",
       "      <th>chl_bottle_hot</th>\n",
       "      <th>depth</th>\n",
       "    </tr>\n",
       "  </thead>\n",
       "  <tbody>\n",
       "    <tr>\n",
       "      <th>0</th>\n",
       "      <td>209.0</td>\n",
       "      <td>25.6074</td>\n",
       "      <td>34.9874</td>\n",
       "      <td>0.09</td>\n",
       "      <td>0.05</td>\n",
       "      <td>1.03</td>\n",
       "      <td>0.19</td>\n",
       "      <td>21.2</td>\n",
       "    </tr>\n",
       "    <tr>\n",
       "      <th>1</th>\n",
       "      <td>213.8</td>\n",
       "      <td>25.5869</td>\n",
       "      <td>34.9908</td>\n",
       "      <td>0.08</td>\n",
       "      <td>0.07</td>\n",
       "      <td>0.05</td>\n",
       "      <td>0.18</td>\n",
       "      <td>46.2</td>\n",
       "    </tr>\n",
       "    <tr>\n",
       "      <th>2</th>\n",
       "      <td>211.3</td>\n",
       "      <td>25.4512</td>\n",
       "      <td>34.9960</td>\n",
       "      <td>0.08</td>\n",
       "      <td>0.05</td>\n",
       "      <td>1.03</td>\n",
       "      <td>0.38</td>\n",
       "      <td>71.1</td>\n",
       "    </tr>\n",
       "    <tr>\n",
       "      <th>3</th>\n",
       "      <td>205.5</td>\n",
       "      <td>23.5445</td>\n",
       "      <td>35.0740</td>\n",
       "      <td>0.12</td>\n",
       "      <td>0.21</td>\n",
       "      <td>1.03</td>\n",
       "      <td>0.27</td>\n",
       "      <td>97.9</td>\n",
       "    </tr>\n",
       "    <tr>\n",
       "      <th>4</th>\n",
       "      <td>201.0</td>\n",
       "      <td>22.3731</td>\n",
       "      <td>35.1547</td>\n",
       "      <td>0.18</td>\n",
       "      <td>0.72</td>\n",
       "      <td>2.01</td>\n",
       "      <td>0.17</td>\n",
       "      <td>122.9</td>\n",
       "    </tr>\n",
       "  </tbody>\n",
       "</table>\n",
       "</div>"
      ],
      "text/plain": [
       "   oxygen_ctd_bottle_hot  potential_temperature_ctd_bottle_hot  \\\n",
       "0                  209.0                               25.6074   \n",
       "1                  213.8                               25.5869   \n",
       "2                  211.3                               25.4512   \n",
       "3                  205.5                               23.5445   \n",
       "4                  201.0                               22.3731   \n",
       "\n",
       "   salinity_ctd_bottle_hot  PO4_bottle_hot  NO2_NO3_bottle_hot  \\\n",
       "0                  34.9874            0.09                0.05   \n",
       "1                  34.9908            0.08                0.07   \n",
       "2                  34.9960            0.08                0.05   \n",
       "3                  35.0740            0.12                0.21   \n",
       "4                  35.1547            0.18                0.72   \n",
       "\n",
       "   SiO4_bottle_hot  chl_bottle_hot  depth  \n",
       "0             1.03            0.19   21.2  \n",
       "1             0.05            0.18   46.2  \n",
       "2             1.03            0.38   71.1  \n",
       "3             1.03            0.27   97.9  \n",
       "4             2.01            0.17  122.9  "
      ]
     },
     "execution_count": 9,
     "metadata": {},
     "output_type": "execute_result"
    }
   ],
   "source": [
    "hot.head(5)"
   ]
  },
  {
   "cell_type": "code",
   "execution_count": 10,
   "id": "d3c3dc9d-3efd-47bb-abc4-a1b1a2e620f0",
   "metadata": {},
   "outputs": [
    {
     "data": {
      "text/plain": [
       "<AxesSubplot:>"
      ]
     },
     "execution_count": 10,
     "metadata": {},
     "output_type": "execute_result"
    },
    {
     "data": {
      "image/png": "[encoded data removed]",
      "text/plain": [
       "<Figure size 1440x720 with 2 Axes>"
      ]
     },
     "metadata": {
      "needs_background": "light"
     },
     "output_type": "display_data"
    }
   ],
   "source": [
    "plt.figure(figsize=(20,10)) \n",
    "sns.heatmap(hot.corr(), annot=True) "
   ]
  },
  {
   "cell_type": "code",
   "execution_count": 11,
   "id": "6c783ea0-b16c-40bf-951f-1d90b3154ac3",
   "metadata": {},
   "outputs": [],
   "source": [
    "# sns.pairplot(hot, vars=['oxygen_ctd_bottle_hot', 'potential_temperature_ctd_bottle_hot',\n",
    "#        'salinity_ctd_bottle_hot', 'PO4_bottle_hot', 'NO2_NO3_bottle_hot',\n",
    "#        'SiO4_bottle_hot', 'chl_bottle_hot', 'depth'])"
   ]
  },
  {
   "cell_type": "code",
   "execution_count": 20,
   "id": "a52d367f-6f06-4b05-9283-2a1c305e1279",
   "metadata": {},
   "outputs": [],
   "source": [
    "def corrX_orig(df, cut = 0.85) :\n",
    "        \n",
    "    # Get correlation matrix and upper triagle\n",
    "    corr_mtx = df.corr().abs()\n",
    "    avg_corr = corr_mtx.mean(axis = 1)\n",
    "    up = corr_mtx.where(np.triu(np.ones(corr_mtx.shape), k=1).astype(np.bool))\n",
    "    \n",
    "    drop = list()\n",
    "\n",
    "        \n",
    "    # For loop implements this pseudocode\n",
    "    # For every cell in the upper triangle: \n",
    "        # If cell.value > 0.6: \n",
    "                # If mean(row_correlation) > mean(column_correlation):drop(column)\n",
    "\t\t# Else: drop(row)\n",
    "    for row in range(len(up)-1):\n",
    "        col_idx = row + 1\n",
    "        for col in range (col_idx, len(up)):\n",
    "            if(corr_mtx.iloc[row, col] > cut):\n",
    "                if(avg_corr.iloc[row] > avg_corr.iloc[col]): \n",
    "                    drop.append(row)\n",
    "                else: \n",
    "                    drop.append(col)\n",
    "    \n",
    "    drop_set = list(set(drop))\n",
    "    # dropcols_idx = drop_set\n",
    "    dropcols_names = list(df.columns[[item for item in drop_set]])\n",
    "    \n",
    "    return(dropcols_names)"
   ]
  },
  {
   "cell_type": "code",
   "execution_count": 21,
   "id": "64ae18b7-7943-48b0-94a0-51b5a908187a",
   "metadata": {},
   "outputs": [
    {
     "name": "stderr",
     "output_type": "stream",
     "text": [
      "/tmp/ipykernel_2716/2740345809.py:6: DeprecationWarning: `np.bool` is a deprecated alias for the builtin `bool`. To silence this warning, use `bool` by itself. Doing this will not modify any behavior and is safe. If you specifically wanted the numpy scalar type, use `np.bool_` here.\n",
      "Deprecated in NumPy 1.20; for more details and guidance: https://numpy.org/devdocs/release/1.20.0-notes.html#deprecations\n",
      "  up = corr_mtx.where(np.triu(np.ones(corr_mtx.shape), k=1).astype(np.bool))\n"
     ]
    },
    {
     "data": {
      "text/plain": [
       "['potential_temperature_ctd_bottle_hot', 'NO2_NO3_bottle_hot']"
      ]
     },
     "execution_count": 21,
     "metadata": {},
     "output_type": "execute_result"
    }
   ],
   "source": [
    "hot_drop = corrX_orig(hot)\n",
    "hot_drop"
   ]
  },
  {
   "cell_type": "code",
   "execution_count": 23,
   "id": "cd618064-23a8-4bab-b6d8-13583a5a054c",
   "metadata": {},
   "outputs": [
    {
     "data": {
      "text/html": [
       "<div>\n",
       "<style scoped>\n",
       "    .dataframe tbody tr th:only-of-type {\n",
       "        vertical-align: middle;\n",
       "    }\n",
       "\n",
       "    .dataframe tbody tr th {\n",
       "        vertical-align: top;\n",
       "    }\n",
       "\n",
       "    .dataframe thead th {\n",
       "        text-align: right;\n",
       "    }\n",
       "</style>\n",
       "<table border=\"1\" class=\"dataframe\">\n",
       "  <thead>\n",
       "    <tr style=\"text-align: right;\">\n",
       "      <th></th>\n",
       "      <th>oxygen_ctd_bottle_hot</th>\n",
       "      <th>salinity_ctd_bottle_hot</th>\n",
       "      <th>PO4_bottle_hot</th>\n",
       "      <th>SiO4_bottle_hot</th>\n",
       "      <th>chl_bottle_hot</th>\n",
       "      <th>depth</th>\n",
       "    </tr>\n",
       "  </thead>\n",
       "  <tbody>\n",
       "    <tr>\n",
       "      <th>0</th>\n",
       "      <td>209.0</td>\n",
       "      <td>34.9874</td>\n",
       "      <td>0.09</td>\n",
       "      <td>1.03</td>\n",
       "      <td>0.19</td>\n",
       "      <td>21.2</td>\n",
       "    </tr>\n",
       "    <tr>\n",
       "      <th>1</th>\n",
       "      <td>213.8</td>\n",
       "      <td>34.9908</td>\n",
       "      <td>0.08</td>\n",
       "      <td>0.05</td>\n",
       "      <td>0.18</td>\n",
       "      <td>46.2</td>\n",
       "    </tr>\n",
       "    <tr>\n",
       "      <th>2</th>\n",
       "      <td>211.3</td>\n",
       "      <td>34.9960</td>\n",
       "      <td>0.08</td>\n",
       "      <td>1.03</td>\n",
       "      <td>0.38</td>\n",
       "      <td>71.1</td>\n",
       "    </tr>\n",
       "    <tr>\n",
       "      <th>3</th>\n",
       "      <td>205.5</td>\n",
       "      <td>35.0740</td>\n",
       "      <td>0.12</td>\n",
       "      <td>1.03</td>\n",
       "      <td>0.27</td>\n",
       "      <td>97.9</td>\n",
       "    </tr>\n",
       "    <tr>\n",
       "      <th>4</th>\n",
       "      <td>201.0</td>\n",
       "      <td>35.1547</td>\n",
       "      <td>0.18</td>\n",
       "      <td>2.01</td>\n",
       "      <td>0.17</td>\n",
       "      <td>122.9</td>\n",
       "    </tr>\n",
       "  </tbody>\n",
       "</table>\n",
       "</div>"
      ],
      "text/plain": [
       "   oxygen_ctd_bottle_hot  salinity_ctd_bottle_hot  PO4_bottle_hot  \\\n",
       "0                  209.0                  34.9874            0.09   \n",
       "1                  213.8                  34.9908            0.08   \n",
       "2                  211.3                  34.9960            0.08   \n",
       "3                  205.5                  35.0740            0.12   \n",
       "4                  201.0                  35.1547            0.18   \n",
       "\n",
       "   SiO4_bottle_hot  chl_bottle_hot  depth  \n",
       "0             1.03            0.19   21.2  \n",
       "1             0.05            0.18   46.2  \n",
       "2             1.03            0.38   71.1  \n",
       "3             1.03            0.27   97.9  \n",
       "4             2.01            0.17  122.9  "
      ]
     },
     "execution_count": 23,
     "metadata": {},
     "output_type": "execute_result"
    }
   ],
   "source": [
    "hot_new = hot.drop(['potential_temperature_ctd_bottle_hot', 'NO2_NO3_bottle_hot'], axis = 1)\n",
    "hot_new.head()"
   ]
  },
  {
   "cell_type": "code",
   "execution_count": 29,
   "id": "639dc75f-f85a-4259-8454-edd8c0a06241",
   "metadata": {},
   "outputs": [],
   "source": [
    "X_hotnew = hot_new.drop(['chl_bottle_hot'], axis=1)\n",
    "y_hotnew = hot_new['chl_bottle_hot']"
   ]
  },
  {
   "cell_type": "code",
   "execution_count": 30,
   "id": "5c42c7d6-8e0f-421e-8d66-1f4d2717a587",
   "metadata": {},
   "outputs": [],
   "source": [
    "from sklearn import model_selection\n",
    "from sklearn.model_selection import RepeatedKFold\n",
    "from sklearn.linear_model import LinearRegression\n",
    "from sklearn.metrics import mean_squared_error\n",
    "from sklearn.model_selection import train_test_split"
   ]
  },
  {
   "cell_type": "code",
   "execution_count": 31,
   "id": "2a8958d5-396e-4c6b-a409-98e4f75811c1",
   "metadata": {},
   "outputs": [],
   "source": [
    "# Linear Regression\n",
    "X_train, X_test, y_train, y_test = train_test_split(X_hotnew, y_hotnew, test_size=0.2, random_state=13)"
   ]
  },
  {
   "cell_type": "code",
   "execution_count": 32,
   "id": "e188a9f3-0145-42db-93d2-b322e58f810d",
   "metadata": {},
   "outputs": [
    {
     "name": "stdout",
     "output_type": "stream",
     "text": [
      "Root Mean Square Error: 0.07326015880454899\n"
     ]
    }
   ],
   "source": [
    "regr = LinearRegression()\n",
    "regr.fit(X_train, y_train)\n",
    "\n",
    "#calculate RMSE\n",
    "pred = regr.predict(X_test)\n",
    "pred_rmse = np.sqrt(mean_squared_error(y_test, pred))\n",
    "print(\"Root Mean Square Error: \" + str(pred_rmse))"
   ]
  },
  {
   "cell_type": "code",
   "execution_count": 37,
   "id": "7476bc3a-335e-465c-9a8d-f425b1a9b02c",
   "metadata": {},
   "outputs": [
    {
     "data": {
      "text/plain": [
       "0.08542253201079253"
      ]
     },
     "execution_count": 37,
     "metadata": {},
     "output_type": "execute_result"
    }
   ],
   "source": [
    "np.std(hot['chl_bottle_hot'])"
   ]
  },
  {
   "cell_type": "markdown",
   "id": "b224499c-0682-4ef7-8afc-977324a8296e",
   "metadata": {},
   "source": [
    "### Compare with does not drop that two columns"
   ]
  },
  {
   "cell_type": "code",
   "execution_count": 33,
   "id": "ea73241d-b406-428f-bd67-d6062b814838",
   "metadata": {},
   "outputs": [],
   "source": [
    "X_hot = hot.drop(['chl_bottle_hot'], axis=1)\n",
    "y_hot = hot['chl_bottle_hot']"
   ]
  },
  {
   "cell_type": "code",
   "execution_count": 34,
   "id": "73331802-21b5-4a5d-85f0-4eb044660d38",
   "metadata": {},
   "outputs": [],
   "source": [
    "X_train, X_test, y_train, y_test = train_test_split(X_hot, y_hot, test_size=0.2, random_state=13)"
   ]
  },
  {
   "cell_type": "code",
   "execution_count": 36,
   "id": "a4ad684c-3832-48b4-9d62-5d8fb45cf977",
   "metadata": {},
   "outputs": [
    {
     "name": "stdout",
     "output_type": "stream",
     "text": [
      "Root Mean Square Error: 0.06796271984751259\n"
     ]
    }
   ],
   "source": [
    "regr_orginal = LinearRegression()\n",
    "regr_orginal.fit(X_train, y_train)\n",
    "\n",
    "#calculate RMSE\n",
    "pred = regr_orginal.predict(X_test)\n",
    "pred_rmse = np.sqrt(mean_squared_error(y_test, pred))\n",
    "print(\"Root Mean Square Error: \" + str(pred_rmse))"
   ]
  }
 ],
 "metadata": {
  "kernelspec": {
   "display_name": "Python [conda env:root] *",
   "language": "python",
   "name": "conda-root-py"
  },
  "language_info": {
   "codemirror_mode": {
    "name": "ipython",
    "version": 3
   },
   "file_extension": ".py",
   "mimetype": "text/x-python",
   "name": "python",
   "nbconvert_exporter": "python",
   "pygments_lexer": "ipython3",
   "version": "3.9.13"
  }
 },
 "nbformat": 4,
 "nbformat_minor": 5
}
